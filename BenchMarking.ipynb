{
  "nbformat": 4,
  "nbformat_minor": 0,
  "metadata": {
    "colab": {
      "name": "BenchMarking.ipynb",
      "provenance": [],
      "collapsed_sections": [],
      "include_colab_link": true
    },
    "kernelspec": {
      "display_name": "Python 3",
      "name": "python3"
    },
    "accelerator": "TPU"
  },
  "cells": [
    {
      "cell_type": "markdown",
      "metadata": {
        "id": "view-in-github",
        "colab_type": "text"
      },
      "source": [
        "<a href=\"https://colab.research.google.com/github/Aditya-11/High_Speed_Solver/blob/main/BenchMarking.ipynb\" target=\"_parent\"><img src=\"https://colab.research.google.com/assets/colab-badge.svg\" alt=\"Open In Colab\"/></a>"
      ]
    },
    {
      "cell_type": "markdown",
      "metadata": {
        "id": "wctYQCHnnBEE"
      },
      "source": [
        "Bench Marking of Matrix Multiplication on CPU , GPU and Google TPUs\n",
        "\n",
        "Tesla K80 available in Google Colab delivers respectable 1.87 TFlops and 12GB RAM\n",
        "\n",
        "TPUv2 available from within Google Colab comes with a whopping 180 TFlops and 64 GB High Bandwidth Memory (HBM)\n"
      ]
    },
    {
      "cell_type": "code",
      "metadata": {
        "colab": {
          "base_uri": "https://localhost:8080/"
        },
        "id": "JdxHI8I8m2RM",
        "outputId": "2cdbddbc-0a9a-477b-9aa8-12e4ae7e26ea"
      },
      "source": [
        " %%writefile test.cpp\n",
        "\n",
        " // 2 random value , x , y\n",
        " // 1 x\n",
        " \n",
        " # include <iostream>\n",
        " #include <bits/stdc++.h>\n",
        " \n",
        " int main(int Argc,char* Args[]){\n",
        "  std::cout << \"test working !\" << std::endl ;\n",
        "  return 0;\n",
        "}"
      ],
      "execution_count": null,
      "outputs": [
        {
          "output_type": "stream",
          "text": [
            "Overwriting test.cpp\n"
          ],
          "name": "stdout"
        }
      ]
    },
    {
      "cell_type": "code",
      "metadata": {
        "colab": {
          "base_uri": "https://localhost:8080/"
        },
        "id": "Cn0fdwyQKnlP",
        "outputId": "d75695b8-c7f2-46ef-b42c-d5c5dc1152e2"
      },
      "source": [
        "  !nvcc --version "
      ],
      "execution_count": null,
      "outputs": [
        {
          "output_type": "stream",
          "text": [
            "nvcc: NVIDIA (R) Cuda compiler driver\n",
            "Copyright (c) 2005-2019 NVIDIA Corporation\n",
            "Built on Sun_Jul_28_19:07:16_PDT_2019\n",
            "Cuda compilation tools, release 10.1, V10.1.243\n"
          ],
          "name": "stdout"
        }
      ]
    },
    {
      "cell_type": "code",
      "metadata": {
        "colab": {
          "base_uri": "https://localhost:8080/"
        },
        "id": "r66Snpkfm2bq",
        "outputId": "45c45f28-db75-432c-e9c7-37a5b2760f79"
      },
      "source": [
        "%%script bash\n",
        "\n",
        "g++ test.cpp -o test\n",
        "ls -laX\n",
        "./test"
      ],
      "execution_count": null,
      "outputs": [
        {
          "output_type": "stream",
          "text": [
            "total 32\n",
            "drwxr-xr-x 1 root root  4096 Jan  6 18:10 sample_data\n",
            "-rwxr-xr-x 1 root root 11544 Jan  9 16:44 test\n",
            "drwxr-xr-x 1 root root  4096 Jan  9 16:44 .\n",
            "drwxr-xr-x 1 root root  4096 Jan  9 16:23 ..\n",
            "drwxr-xr-x 1 root root  4096 Jan  6 18:10 .config\n",
            "-rw-r--r-- 1 root root   173 Jan  9 16:43 test.cpp\n",
            "test working !\n"
          ],
          "name": "stdout"
        }
      ]
    },
    {
      "cell_type": "code",
      "metadata": {
        "colab": {
          "base_uri": "https://localhost:8080/"
        },
        "id": "RG1cwxkllc-g",
        "outputId": "32c8837a-a0a5-4af7-ccfc-ebd5a6d3d16c"
      },
      "source": [
        "# matrix multiplication using tensorflow on CPU\n",
        "\n",
        "import tensorflow as tf \n",
        "import numpy as np \n",
        "import time \n",
        "import datetime\n",
        "\n",
        "#a = tf.constant(np.random.rand(10000, 10000))\n",
        "#b = tf.constant(np.random.rand(10000, 1))\n",
        "\n",
        "a = tf.constant(np.ones((10000, 10000)))\n",
        "b = tf.constant(np.ones((10000, 10000)))\n",
        "\n",
        "with tf.device('/CPU:0'):\n",
        "    time_s = datetime.datetime.now()\n",
        "    c = tf.matmul(a, b)\n",
        "    time_end = datetime.datetime.now()\n",
        "    time_delta = time_end - time_s\n",
        "    print (\"time diff in cpu : \" , time_delta)\n"
      ],
      "execution_count": null,
      "outputs": [
        {
          "output_type": "stream",
          "text": [
            "time diff in cpu :  0:01:07.552017\n"
          ],
          "name": "stdout"
        }
      ]
    },
    {
      "cell_type": "code",
      "metadata": {
        "colab": {
          "base_uri": "https://localhost:8080/"
        },
        "id": "ErUiGas3pr_v",
        "outputId": "181404f7-a1df-4761-bc61-bf01a28a328b"
      },
      "source": [
        "# Took GPU Resource \n",
        "\n",
        "#print(\"Num GPUs Available: \", len(tf.config.experimental.list_physical_devices('GPU')))\n",
        "\n",
        "from tensorflow.python.client import device_lib\n",
        "print (device_lib.list_local_devices()) "
      ],
      "execution_count": null,
      "outputs": [
        {
          "output_type": "stream",
          "text": [
            "[name: \"/device:CPU:0\"\n",
            "device_type: \"CPU\"\n",
            "memory_limit: 268435456\n",
            "locality {\n",
            "}\n",
            "incarnation: 5497309870604047426\n",
            "]\n"
          ],
          "name": "stdout"
        }
      ]
    },
    {
      "cell_type": "code",
      "metadata": {
        "id": "kK86G6h3pBhu",
        "colab": {
          "base_uri": "https://localhost:8080/"
        },
        "outputId": "3f07bfc9-5a19-4859-b720-58118fa8ffe7"
      },
      "source": [
        "# matrix multiplication using tensorflow on GPU\n",
        "\n",
        "import tensorflow as tf \n",
        "import numpy as np \n",
        "import time \n",
        "import datetime\n",
        "\n",
        "a = tf.constant(np.random.rand(10000, 10000))\n",
        "b = tf.constant(np.random.rand(10000, 1))\n",
        "\n",
        "with tf.device('/GPU:0'):\n",
        "    time_s = datetime.datetime.now()\n",
        "    c = tf.matmul(a, b)\n",
        "    time_end = datetime.datetime.now()\n",
        "    time_delta = time_end - time_s\n",
        "    print (\"time diff in gpu : \" , time_delta)"
      ],
      "execution_count": null,
      "outputs": [
        {
          "output_type": "stream",
          "text": [
            "time diff in gpu :  0:00:01.657926\n"
          ],
          "name": "stdout"
        }
      ]
    },
    {
      "cell_type": "code",
      "metadata": {
        "id": "dKPqF8d1wJCV",
        "colab": {
          "base_uri": "https://localhost:8080/"
        },
        "outputId": "1a8a096f-58f0-4c5f-d6c1-5ef62132b45f"
      },
      "source": [
        "import tensorflow as tf\n",
        "import os\n",
        "# TPU Initialization\n",
        "\n",
        "resolver = tf.distribute.cluster_resolver.TPUClusterResolver(tpu='grpc://' + os.environ['COLAB_TPU_ADDR'])\n",
        "tf.config.experimental_connect_to_cluster(resolver)\n",
        "# This is the TPU initialization code that has to be at the beginning.\n",
        "tf.tpu.experimental.initialize_tpu_system(resolver)\n",
        "print(\"All devices: \", tf.config.list_logical_devices('TPU'))"
      ],
      "execution_count": null,
      "outputs": [
        {
          "output_type": "stream",
          "text": [
            "INFO:tensorflow:Initializing the TPU system: grpc://10.95.81.154:8470\n"
          ],
          "name": "stdout"
        },
        {
          "output_type": "stream",
          "text": [
            "INFO:tensorflow:Initializing the TPU system: grpc://10.95.81.154:8470\n"
          ],
          "name": "stderr"
        },
        {
          "output_type": "stream",
          "text": [
            "INFO:tensorflow:Clearing out eager caches\n"
          ],
          "name": "stdout"
        },
        {
          "output_type": "stream",
          "text": [
            "INFO:tensorflow:Clearing out eager caches\n"
          ],
          "name": "stderr"
        },
        {
          "output_type": "stream",
          "text": [
            "INFO:tensorflow:Finished initializing TPU system.\n"
          ],
          "name": "stdout"
        },
        {
          "output_type": "stream",
          "text": [
            "INFO:tensorflow:Finished initializing TPU system.\n"
          ],
          "name": "stderr"
        },
        {
          "output_type": "stream",
          "text": [
            "All devices:  [LogicalDevice(name='/job:worker/replica:0/task:0/device:TPU:7', device_type='TPU'), LogicalDevice(name='/job:worker/replica:0/task:0/device:TPU:6', device_type='TPU'), LogicalDevice(name='/job:worker/replica:0/task:0/device:TPU:5', device_type='TPU'), LogicalDevice(name='/job:worker/replica:0/task:0/device:TPU:4', device_type='TPU'), LogicalDevice(name='/job:worker/replica:0/task:0/device:TPU:3', device_type='TPU'), LogicalDevice(name='/job:worker/replica:0/task:0/device:TPU:0', device_type='TPU'), LogicalDevice(name='/job:worker/replica:0/task:0/device:TPU:1', device_type='TPU'), LogicalDevice(name='/job:worker/replica:0/task:0/device:TPU:2', device_type='TPU')]\n"
          ],
          "name": "stdout"
        }
      ]
    },
    {
      "cell_type": "code",
      "metadata": {
        "id": "6nsK5wzM_Clq"
      },
      "source": [
        "import tensorflow as tf"
      ],
      "execution_count": null,
      "outputs": []
    },
    {
      "cell_type": "code",
      "metadata": {
        "colab": {
          "base_uri": "https://localhost:8080/"
        },
        "id": "75L2nUzZvYOR",
        "outputId": "f61b5a1b-78c5-4c6b-f04b-5c7ba3d5fd07"
      },
      "source": [
        "# took TPU resource\n",
        "print(\"Num TPUs Available: \", len(tf.config.experimental.list_physical_devices('TPU')))\n",
        "\n",
        "from tensorflow.python.client import device_lib\n",
        "print (device_lib.list_local_devices()) "
      ],
      "execution_count": null,
      "outputs": [
        {
          "output_type": "stream",
          "text": [
            "Num TPUs Available:  0\n",
            "[name: \"/device:CPU:0\"\n",
            "device_type: \"CPU\"\n",
            "memory_limit: 268435456\n",
            "locality {\n",
            "}\n",
            "incarnation: 6197948318374526285\n",
            "]\n"
          ],
          "name": "stdout"
        }
      ]
    },
    {
      "cell_type": "code",
      "metadata": {
        "id": "XRZ4kMoxBNND",
        "colab": {
          "base_uri": "https://localhost:8080/"
        },
        "outputId": "2677de86-7bf1-4990-8cf9-f5726ef2db05"
      },
      "source": [
        "# matrix multiplicationn using tensorflow on TPU\n",
        "\n",
        "import tensorflow as tf \n",
        "import numpy as np \n",
        "import time \n",
        "import datetime\n",
        "\n",
        "#a = tf.constant(np.random.rand(10000, 10000))\n",
        "#b = tf.constant(np.random.rand(10000, 1))\n",
        "\n",
        "a = tf.constant(np.ones((15000, 15000)))\n",
        "b = tf.constant(np.ones((15000, 15000)))\n",
        "\n",
        "with tf.device('/TPU:0'):\n",
        "    time_s = datetime.datetime.now()\n",
        "    c = tf.matmul(a, b)\n",
        "    time_end = datetime.datetime.now()\n",
        "    time_delta = time_end - time_s\n",
        "    print (\"time diff in TPU : \" , time_delta)"
      ],
      "execution_count": null,
      "outputs": [
        {
          "output_type": "stream",
          "text": [
            "time diff in TPU :  0:00:00.000290\n"
          ],
          "name": "stdout"
        }
      ]
    },
    {
      "cell_type": "markdown",
      "metadata": {
        "id": "id1spgfc9Mze"
      },
      "source": [
        "   \n",
        "   N x N and N x 1 product            time (seconds) \n",
        "\n",
        "   1000                            0.000296\n",
        "\n",
        "   10000                           00.000527\n",
        "\n",
        "   20000                           00.275513\n",
        "\n",
        "   30000                           00.6298  \n",
        "\n",
        "   31000                           00.7554   "
      ]
    },
    {
      "cell_type": "code",
      "metadata": {
        "id": "L9HKFY7T9G7z"
      },
      "source": [
        "0.000527\n",
        "\n",
        "0.000296\n",
        "\n",
        "0.000409 -> 15000\n",
        "\n",
        "0.000266 -> 10000\n",
        "\n"
      ],
      "execution_count": null,
      "outputs": []
    },
    {
      "cell_type": "markdown",
      "metadata": {
        "id": "igg7B9LPMcU4"
      },
      "source": [
        " Testing result of product of 2 10000 * 10000 matrix in CPU, GPU ,TPU using  tensorflow library :\n",
        "\n",
        "CPU time : 1 minute and 4.730764 second\n",
        "\n",
        "GPU time : 1.830638 second\n",
        "\n",
        "TPU time : 0.000247 second\n"
      ]
    },
    {
      "cell_type": "code",
      "metadata": {
        "colab": {
          "base_uri": "https://localhost:8080/"
        },
        "id": "3aqkAaET0vCP",
        "outputId": "8b7f22ac-a5e3-4f6a-ae07-7c94597d0408"
      },
      "source": [
        "import time\n",
        "import tensorflow as tf \n",
        "import numpy as np \n",
        "\n",
        "start = time.process_time() \n",
        "N = 10000\n",
        "a = tf.constant(np.ones((N,N )))\n",
        "b = tf.constant(np.ones((N ,N)))\n",
        "\n",
        "with tf.device('/TPU:0'):\n",
        "    start = time.process_time() \n",
        "    c = tf.matmul(a, b)\n",
        "    print(time.process_time() - start)"
      ],
      "execution_count": null,
      "outputs": [
        {
          "output_type": "stream",
          "text": [
            "0.0003225869999994302\n"
          ],
          "name": "stdout"
        }
      ]
    },
    {
      "cell_type": "markdown",
      "metadata": {
        "id": "0bc2-d1eIWS5"
      },
      "source": [
        "n = 10000 : 0.0002187559999988764\n",
        "\n",
        "n = 15000 : 0.00026719800000307714\n",
        "\n",
        "n = 5000  : 0.00029179399999890165\n",
        "\n",
        "n = 1000  : 0.0002640260000035255 \n",
        "\n",
        "n = 16000 : 0.0002961739999989277\n",
        "\n",
        "n = 14500 : 0.00027425399999980726\n",
        "\n",
        "n = 8500  : 0.00027358799999888106\n",
        "\n",
        "\n"
      ]
    },
    {
      "cell_type": "code",
      "metadata": {
        "colab": {
          "base_uri": "https://localhost:8080/"
        },
        "id": "hZqCHKtVLcEC",
        "outputId": "e1d5e937-a0f3-499e-d50f-923d7949d317"
      },
      "source": [
        "import time\n",
        "import tensorflow as tf \n",
        "import numpy as np \n",
        "\n",
        "start = time.process_time() \n",
        "\n",
        "a = tf.constant(np.ones((20000, 20000)))\n",
        "b = tf.constant(np.ones((20000, 20000)))\n",
        "\n",
        "with tf.device('/CPU'):\n",
        "    start = time.process_time() \n",
        "    c = tf.matmul(a, b)\n",
        "    print(time.process_time() - start)"
      ],
      "execution_count": null,
      "outputs": [
        {
          "output_type": "stream",
          "text": [
            "830.412971635\n"
          ],
          "name": "stdout"
        }
      ]
    },
    {
      "cell_type": "markdown",
      "metadata": {
        "id": "aCjZFUUCL8Vf"
      },
      "source": [
        "n = 8500  : 0.0487789740000002\n",
        "\n",
        "n = 5000  : 0.016660796999999672\n",
        "\n",
        "n = 15000 : 0.1489128820000003\n",
        "\n",
        "n = 16000 : 0.17133252399999943  \n",
        "\n",
        "n = 10000 : 0.0665604170000007 \n",
        "\n",
        "n = 14500 : 0.14073347799999958\n",
        "\n",
        "n = 1000  : 0.0012795159999994254\n"
      ]
    },
    {
      "cell_type": "code",
      "metadata": {
        "colab": {
          "base_uri": "https://localhost:8080/"
        },
        "id": "Z0kB_Ax1N1Sk",
        "outputId": "632564fd-2a63-4416-a8bc-a38c0523e97b"
      },
      "source": [
        "import time\n",
        "import tensorflow as tf \n",
        "import numpy as np \n",
        "\n",
        "start = time.process_time() \n",
        "\n",
        "a = tf.constant(np.ones((16000, 16000)))\n",
        "b = tf.constant(np.ones((16000, 16000)))\n",
        "\n",
        "with tf.device('/device:GPU:0'):\n",
        "    start = time.process_time() \n",
        "    c = tf.matmul(a, b)\n",
        "    print(time.process_time() - start)"
      ],
      "execution_count": null,
      "outputs": [
        {
          "output_type": "stream",
          "text": [
            "0.8619994559999782\n"
          ],
          "name": "stdout"
        }
      ]
    },
    {
      "cell_type": "markdown",
      "metadata": {
        "id": "kijTH18VOiHZ"
      },
      "source": [
        "\n",
        "n = 8500  : 0.12470823499999995\n",
        "\n",
        "n = 5000  : 0.04467092500000014\n",
        "\n",
        "n = 15000 : 0.3822102489999999\n",
        "\n",
        "n = 16000 : 0.4367095560000003\n",
        "\n",
        "n = 10000 : 0.17113139400000055\n",
        "\n",
        "n = 14500 : 0.35358578299999976\n",
        "\n",
        "n = 1000  : 0.0025060650000003903\n"
      ]
    },
    {
      "cell_type": "code",
      "metadata": {
        "colab": {
          "base_uri": "https://localhost:8080/"
        },
        "id": "qq8OlCq7PZov",
        "outputId": "a9499068-d702-476e-abf6-dc6901d2e2ab"
      },
      "source": [
        "from tensorflow.python.client import device_lib\n",
        "print (device_lib.list_local_devices()) "
      ],
      "execution_count": null,
      "outputs": [
        {
          "output_type": "stream",
          "text": [
            "[name: \"/device:CPU:0\"\n",
            "device_type: \"CPU\"\n",
            "memory_limit: 268435456\n",
            "locality {\n",
            "}\n",
            "incarnation: 20440798564142032\n",
            ", name: \"/device:XLA_CPU:0\"\n",
            "device_type: \"XLA_CPU\"\n",
            "memory_limit: 17179869184\n",
            "locality {\n",
            "}\n",
            "incarnation: 11927426254611375312\n",
            "physical_device_desc: \"device: XLA_CPU device\"\n",
            "]\n"
          ],
          "name": "stdout"
        }
      ]
    },
    {
      "cell_type": "code",
      "metadata": {
        "colab": {
          "base_uri": "https://localhost:8080/",
          "height": 291
        },
        "id": "RTzw2R-el7Ma",
        "outputId": "35ec4607-f7bd-4c9f-ec36-53fc4dae3215"
      },
      "source": [
        "import matplotlib.pyplot as plt\n",
        "\n",
        "cpu_time = [0.0012795159999994254  ,  0.016660796999999672 , 0.0487789740000002 , 0.0665604170000007  ,  0.14073347799999958 , 0.1489128820000003 , 0.17133252399999943 ]\n",
        "\n",
        "gpu_time = [0.0025060650000003903 , 0.04467092500000014 , 0.12470823499999995 , 0.17113139400000055  , 0.35358578299999976 , 0.3822102489999999 , 0.4367095560000003 ]\n",
        "\n",
        "tpu_time = [0.0002640260000035255 , 0.00029179399999890165 , 0.00027358799999888106 , 0.0002187559999988764 ,   0.00027425399999980726 , 0.00026719800000307714 , 0.0002961739999989277 ] \n",
        "\n",
        "gpu_cuda = [ 0.13741 , 0.160686 , 0.200975 , 0.226264 , 0.332136 , 0.349282 , 0.37066 ]\n",
        "\n",
        "times = [1000 , 5000 , 8500 , 10000 , 14500 , 15000 , 16000]\n",
        "\n",
        "plt.style.use('seaborn-whitegrid')\n",
        "\n",
        "import numpy as np\n",
        "\n",
        "plt.plot(times , cpu_time , '-ok', color='black' , label = 'CPU');\n",
        "\n",
        "plt.plot(times,gpu_time ,'-ok' , color = 'red' , label = 'GPU')\n",
        "\n",
        "plt.plot(times ,tpu_time ,'-ok' ,  color = 'blue' , label = 'TPU')\n",
        "\n",
        "plt.plot(times ,gpu_cuda ,'-ok' ,  color = 'green' , label = 'GPU-CUDA')\n",
        "\n",
        "\n",
        "\n",
        "plt.xlabel('N value') \n",
        "plt.ylabel('times taken in seconds')\n",
        "plt.title('TPU GPU CPU on matrix vector product')\n",
        "\n",
        "plt.legend()\n",
        "\n",
        "\n",
        "\n",
        "tpu_time = [ ]\n",
        "\n"
      ],
      "execution_count": null,
      "outputs": [
        {
          "output_type": "display_data",
          "data": {
            "image/png": "[encoded data removed]",
            "text/plain": [
              "<Figure size 432x288 with 1 Axes>"
            ]
          },
          "metadata": {
            "tags": []
          }
        }
      ]
    },
    {
      "cell_type": "markdown",
      "metadata": {
        "id": "oPcWTG-tCrcF"
      },
      "source": [
        "using cuda implementation : \n",
        "\n",
        "\n",
        "\n",
        "\n",
        "1000  : 0.13741\n",
        "\n",
        "5000  : 0.160686\n",
        "\n",
        "8500  : 0.200975\n",
        "\n",
        "10000 : 0.236703\n",
        "\n",
        "14500 : 0.241894\n",
        "\n",
        "15000 : 0.241294\n",
        "\n",
        "16000 : 0.252805\n",
        "\n"
      ]
    },
    {
      "cell_type": "code",
      "metadata": {
        "id": "Gktd8izFaLB9",
        "colab": {
          "base_uri": "https://localhost:8080/"
        },
        "outputId": "619c1f50-99c7-45cd-9af2-d210ef46292b"
      },
      "source": [
        "import time\n",
        "import tensorflow as tf \n",
        "import numpy as np \n",
        "\n",
        "start = time.process_time() \n",
        "\n",
        "#a = tf.constant(np.ones((20000, 20000)))\n",
        "#b = tf.constant(np.ones((20000, 20000)))\n",
        "\n",
        "n_ = [1000 , 5000 , 8500 , 10000 , 14500 , 15000,16000]\n",
        "\n",
        "time_ = []\n",
        "\n",
        "with tf.device('/CPU'):\n",
        "    for i in n_:\n",
        "        a = tf.constant(np.ones((i , i)))\n",
        "        b = tf.constant(np.ones((i , i)))\n",
        "        start = time.process_time() \n",
        "        c = tf.matmul(a, b)\n",
        "        c1 = time.process_time() - start\n",
        "        print(c1)\n",
        "        time_.append(c1)\n",
        "\n",
        "print (time_)"
      ],
      "execution_count": null,
      "outputs": [
        {
          "output_type": "stream",
          "text": [
            "0.13305028100000005\n",
            "14.894099743999998\n",
            "72.777773067\n",
            "116.59295253500001\n",
            "355.62092230699994\n",
            "370.91698890399994\n",
            "443.35346681399994\n",
            "[0.13305028100000005, 14.894099743999998, 72.777773067, 116.59295253500001, 355.62092230699994, 370.91698890399994, 443.35346681399994]\n"
          ],
          "name": "stdout"
        }
      ]
    },
    {
      "cell_type": "code",
      "metadata": {
        "colab": {
          "base_uri": "https://localhost:8080/"
        },
        "id": "EJ72zZ-1jJ-_",
        "outputId": "96f41806-a8bd-4808-e983-70e845b06d00"
      },
      "source": [
        "import time\n",
        "import tensorflow as tf \n",
        "import numpy as np \n",
        "\n",
        "start = time.process_time() \n",
        "\n",
        "n_ = [1000 , 5000 , 8500 , 10000 , 14500 , 15000, 16000]\n",
        "\n",
        "time_ = []\n",
        "\n",
        "with tf.device('/device:TPU:0'):\n",
        "    for i in n_:\n",
        "        a = tf.constant(np.ones((i , i)))\n",
        "        b = tf.constant(np.ones((i , i)))\n",
        "        start = time.process_time() \n",
        "        c = tf.matmul(a, b)\n",
        "        c1 = time.process_time() - start\n",
        "        print(c1)\n",
        "        time_.append(c1)\n",
        "\n",
        "print(time_)"
      ],
      "execution_count": null,
      "outputs": [
        {
          "output_type": "stream",
          "text": [
            "0.013890538000000063\n",
            "0.33394575500000023\n",
            "0.821975686\n",
            "1.2415371429999995\n"
          ],
          "name": "stdout"
        }
      ]
    }
  ]
}