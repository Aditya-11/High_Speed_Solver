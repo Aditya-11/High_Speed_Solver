{
  "nbformat": 4,
  "nbformat_minor": 0,
  "metadata": {
    "colab": {
      "name": "CPU_threads.ipynb",
      "provenance": [],
      "collapsed_sections": [],
      "include_colab_link": true
    },
    "kernelspec": {
      "display_name": "Python 3",
      "name": "python3"
    }
  },
  "cells": [
    {
      "cell_type": "markdown",
      "metadata": {
        "id": "view-in-github",
        "colab_type": "text"
      },
      "source": [
        "<a href=\"https://colab.research.google.com/github/Aditya-11/High_Speed_Solver/blob/main/CPU_threads.ipynb\" target=\"_parent\"><img src=\"https://colab.research.google.com/assets/colab-badge.svg\" alt=\"Open In Colab\"/></a>"
      ]
    },
    {
      "cell_type": "markdown",
      "metadata": {
        "id": "VGIC_Rb0zTZI"
      },
      "source": [
        "Test CPU time for matrix multiplication !"
      ]
    },
    {
      "cell_type": "code",
      "metadata": {
        "colab": {
          "base_uri": "https://localhost:8080/"
        },
        "id": "CHbBZafL0Z18",
        "outputId": "620b8a4e-f2d9-4e67-8f3d-454af7d18253"
      },
      "source": [
        "!cat /proc/cpuinfo"
      ],
      "execution_count": null,
      "outputs": [
        {
          "output_type": "stream",
          "text": [
            "processor\t: 0\n",
            "vendor_id\t: GenuineIntel\n",
            "cpu family\t: 6\n",
            "model\t\t: 79\n",
            "model name\t: Intel(R) Xeon(R) CPU @ 2.20GHz\n",
            "stepping\t: 0\n",
            "microcode\t: 0x1\n",
            "cpu MHz\t\t: 2200.220\n",
            "cache size\t: 56320 KB\n",
            "physical id\t: 0\n",
            "siblings\t: 2\n",
            "core id\t\t: 0\n",
            "cpu cores\t: 1\n",
            "apicid\t\t: 0\n",
            "initial apicid\t: 0\n",
            "fpu\t\t: yes\n",
            "fpu_exception\t: yes\n",
            "cpuid level\t: 13\n",
            "wp\t\t: yes\n",
            "flags\t\t: fpu vme de pse tsc msr pae mce cx8 apic sep mtrr pge mca cmov pat pse36 clflush mmx fxsr sse sse2 ss ht syscall nx pdpe1gb rdtscp lm constant_tsc rep_good nopl xtopology nonstop_tsc cpuid tsc_known_freq pni pclmulqdq ssse3 fma cx16 pcid sse4_1 sse4_2 x2apic movbe popcnt aes xsave avx f16c rdrand hypervisor lahf_lm abm 3dnowprefetch invpcid_single ssbd ibrs ibpb stibp fsgsbase tsc_adjust bmi1 hle avx2 smep bmi2 erms invpcid rtm rdseed adx smap xsaveopt arat md_clear arch_capabilities\n",
            "bugs\t\t: cpu_meltdown spectre_v1 spectre_v2 spec_store_bypass l1tf mds swapgs taa\n",
            "bogomips\t: 4400.44\n",
            "clflush size\t: 64\n",
            "cache_alignment\t: 64\n",
            "address sizes\t: 46 bits physical, 48 bits virtual\n",
            "power management:\n",
            "\n",
            "processor\t: 1\n",
            "vendor_id\t: GenuineIntel\n",
            "cpu family\t: 6\n",
            "model\t\t: 79\n",
            "model name\t: Intel(R) Xeon(R) CPU @ 2.20GHz\n",
            "stepping\t: 0\n",
            "microcode\t: 0x1\n",
            "cpu MHz\t\t: 2200.220\n",
            "cache size\t: 56320 KB\n",
            "physical id\t: 0\n",
            "siblings\t: 2\n",
            "core id\t\t: 0\n",
            "cpu cores\t: 1\n",
            "apicid\t\t: 1\n",
            "initial apicid\t: 1\n",
            "fpu\t\t: yes\n",
            "fpu_exception\t: yes\n",
            "cpuid level\t: 13\n",
            "wp\t\t: yes\n",
            "flags\t\t: fpu vme de pse tsc msr pae mce cx8 apic sep mtrr pge mca cmov pat pse36 clflush mmx fxsr sse sse2 ss ht syscall nx pdpe1gb rdtscp lm constant_tsc rep_good nopl xtopology nonstop_tsc cpuid tsc_known_freq pni pclmulqdq ssse3 fma cx16 pcid sse4_1 sse4_2 x2apic movbe popcnt aes xsave avx f16c rdrand hypervisor lahf_lm abm 3dnowprefetch invpcid_single ssbd ibrs ibpb stibp fsgsbase tsc_adjust bmi1 hle avx2 smep bmi2 erms invpcid rtm rdseed adx smap xsaveopt arat md_clear arch_capabilities\n",
            "bugs\t\t: cpu_meltdown spectre_v1 spectre_v2 spec_store_bypass l1tf mds swapgs taa\n",
            "bogomips\t: 4400.44\n",
            "clflush size\t: 64\n",
            "cache_alignment\t: 64\n",
            "address sizes\t: 46 bits physical, 48 bits virtual\n",
            "power management:\n",
            "\n"
          ],
          "name": "stdout"
        }
      ]
    },
    {
      "cell_type": "code",
      "metadata": {
        "colab": {
          "base_uri": "https://localhost:8080/"
        },
        "id": "ZJuQG_JR1JJI",
        "outputId": "43fe1af3-0f88-47ef-b4e4-4211baeb0bfc"
      },
      "source": [
        "!lscpu"
      ],
      "execution_count": null,
      "outputs": [
        {
          "output_type": "stream",
          "text": [
            "Architecture:        x86_64\n",
            "CPU op-mode(s):      32-bit, 64-bit\n",
            "Byte Order:          Little Endian\n",
            "CPU(s):              2\n",
            "On-line CPU(s) list: 0,1\n",
            "Thread(s) per core:  2\n",
            "Core(s) per socket:  1\n",
            "Socket(s):           1\n",
            "NUMA node(s):        1\n",
            "Vendor ID:           GenuineIntel\n",
            "CPU family:          6\n",
            "Model:               79\n",
            "Model name:          Intel(R) Xeon(R) CPU @ 2.20GHz\n",
            "Stepping:            0\n",
            "CPU MHz:             2200.220\n",
            "BogoMIPS:            4400.44\n",
            "Hypervisor vendor:   KVM\n",
            "Virtualization type: full\n",
            "L1d cache:           32K\n",
            "L1i cache:           32K\n",
            "L2 cache:            256K\n",
            "L3 cache:            56320K\n",
            "NUMA node0 CPU(s):   0,1\n",
            "Flags:               fpu vme de pse tsc msr pae mce cx8 apic sep mtrr pge mca cmov pat pse36 clflush mmx fxsr sse sse2 ss ht syscall nx pdpe1gb rdtscp lm constant_tsc rep_good nopl xtopology nonstop_tsc cpuid tsc_known_freq pni pclmulqdq ssse3 fma cx16 pcid sse4_1 sse4_2 x2apic movbe popcnt aes xsave avx f16c rdrand hypervisor lahf_lm abm 3dnowprefetch invpcid_single ssbd ibrs ibpb stibp fsgsbase tsc_adjust bmi1 hle avx2 smep bmi2 erms invpcid rtm rdseed adx smap xsaveopt arat md_clear arch_capabilities\n"
          ],
          "name": "stdout"
        }
      ]
    },
    {
      "cell_type": "code",
      "metadata": {
        "colab": {
          "base_uri": "https://localhost:8080/"
        },
        "id": "FwcutBTuF5c1",
        "outputId": "4884fcc2-7c2a-4b66-ae9e-3455e284b675"
      },
      "source": [
        "%%writefile sam1.cpp\n",
        "\n",
        "#include <bits/stdc++.h> \n",
        "#include <thread>\n",
        "#include <chrono>\n",
        "\n",
        "using namespace std; \n",
        "  \n",
        "// maximum size of matrix \n",
        "#define MAX 10000 \n",
        "  \n",
        "// maximum number of threads \n",
        "#define MAX_THREAD 2\n",
        "\n",
        "int step_i = 0 ; \n",
        "\n",
        "float * matA = nullptr ; \n",
        "float * matB = nullptr ; \n",
        "float * matC = nullptr ;\n",
        "\n",
        "\n",
        "void* multi(void* arg) \n",
        "{ \n",
        "    int core = step_i++;\n",
        "\n",
        "    // std::cout << \"core no : \" <<  core << std::endl;\n",
        "\n",
        "    for (int i = core * MAX / MAX_THREAD; i < (core + 1) * MAX / MAX_THREAD; i++)  \n",
        "    {\n",
        "        for (int j = 0; j < MAX; j++)  \n",
        "        { \n",
        "           float Pvalue = 0; \n",
        "           for (int k = 0; k < MAX ; ++k) {\n",
        "            float Mdelement = matA[i*MAX + k];\n",
        "            float Ndelement = matB[k*MAX + j];\n",
        "            Pvalue += (Mdelement*Ndelement);\n",
        "            }\n",
        "            matC[j*MAX + i] = Pvalue ;\n",
        "        }\n",
        "    }\n",
        "} \n",
        "\n",
        "int main () {\n",
        "    matA = (float * )malloc (sizeof(float) * MAX * MAX) ; \n",
        "    matB = (float *)malloc (sizeof(float) * MAX * MAX) ; \n",
        "    matC = (float *)malloc (sizeof(float) * MAX * MAX) ; \n",
        "\n",
        "    for (int i = 0 ; i < MAX * MAX; i++ ) { \n",
        "            matA[i]= 1 ;\n",
        "            matB[i] = 1 ;\n",
        "    }\n",
        "\n",
        "    pthread_t threads[MAX_THREAD]; \n",
        "\n",
        "    using clock = std::chrono::system_clock;\n",
        "    using sec = std::chrono::duration<double>;\n",
        "\n",
        "    const auto before = clock::now();\n",
        "\n",
        "    for (int i = 0; i < MAX_THREAD; i++) { \n",
        "        int* p; \n",
        "        pthread_create(&threads[i], NULL, multi, (void*)(p)); \n",
        "    } \n",
        "  \n",
        "    for (int i = 0; i < MAX_THREAD; i++)  pthread_join(threads[i], NULL);     \n",
        "\n",
        "    const sec duration = clock::now() - before;\n",
        "    std::cout <<  \"time to multiply : \" << duration.count() << std::endl << std::endl;\n",
        "\n",
        "    std::cout << matC[1]<< \" \" << sizeof(matC) / sizeof(matC[0]) << std::endl ;\n",
        "\n",
        "    delete [] matA ; \n",
        "    delete [] matB ;\n",
        "    delete [] matC ; \n",
        "}"
      ],
      "execution_count": null,
      "outputs": [
        {
          "output_type": "stream",
          "text": [
            "Writing sam1.cpp\n"
          ],
          "name": "stdout"
        }
      ]
    },
    {
      "cell_type": "code",
      "metadata": {
        "colab": {
          "base_uri": "https://localhost:8080/"
        },
        "id": "x1VbdW7d6qrj",
        "outputId": "2cb88897-df77-4768-ef07-67700afda8ba"
      },
      "source": [
        "%%writefile sam1_vec.cpp\n",
        "\n",
        "#include <bits/stdc++.h> \n",
        "#include <thread> \n",
        "#include <chrono> \n",
        "\n",
        "using namespace std; \n",
        "  \n",
        "// maximum size of matrix \n",
        "#define MAX 10000 \n",
        "  \n",
        "// maximum number of threads \n",
        "#define MAX_THREAD 2 \n",
        "\n",
        "int step_i = 0 ; \n",
        "\n",
        "float * matA = nullptr ; \n",
        "float * matB = nullptr ; \n",
        "float * matC = nullptr ;\n",
        "\n",
        "\n",
        "void* multi(void* arg) \n",
        "{ \n",
        "    int core = step_i++;\n",
        "    std::cout << \"core no : \" <<  core << std::endl;\n",
        "    for (int i = core * MAX / MAX_THREAD; i < (core + 1) * MAX / MAX_THREAD; i++)  \n",
        "    {\n",
        "           float Pvalue = 0; \n",
        "           for (int k = 0; k < MAX ; ++k) \n",
        "           {\n",
        "            float Mdelement = matA[i*MAX + k];\n",
        "            float Ndelement = matB[k];\n",
        "            Pvalue += (Mdelement*Ndelement);\n",
        "           }\n",
        "           matC[i] = Pvalue ;\n",
        "          // printf(\"%d \\t %f \\n\",i,Pvalue); \n",
        "    }\n",
        "} \n",
        "\n",
        "int main () {\n",
        "    \n",
        "    matA = (float * )malloc (sizeof(float) * MAX * MAX) ; \n",
        "    matB = (float *)malloc (sizeof(float) * MAX) ; \n",
        "    matC = (float *)malloc (sizeof(float) * MAX) ; \n",
        "\n",
        "    for (int i = 0 ; i < MAX * MAX; i++ ) { \n",
        "        matA[i]= 1 ;\n",
        "    }\n",
        "\n",
        "    for (int i = 0 ; i< MAX; i++) { \n",
        "        matB[i] = 1; \n",
        "    }\n",
        "\n",
        "    pthread_t threads[MAX_THREAD]; \n",
        "\n",
        "    using clock = std::chrono::system_clock;\n",
        "    using sec = std::chrono::duration<double>;\n",
        "\n",
        "    const auto before = clock::now();\n",
        "\n",
        "    for (int i = 0; i < MAX_THREAD; i++) { \n",
        "        int* p; \n",
        "        pthread_create(&threads[i], NULL, multi, (void*)(p)); \n",
        "    } \n",
        "  \n",
        "    for (int i = 0; i < MAX_THREAD; i++)  pthread_join(threads[i], NULL);     \n",
        "\n",
        "    const sec duration = clock::now() - before;\n",
        "\n",
        "    std::cout <<  \"time to multiply : \" << duration.count() << std::endl << std::endl;\n",
        "\n",
        "    std::cout << matC[1]<< \" \" << matC[100] << \" \" << matC[MAX-1] <<  std::endl ;\n",
        "\n",
        "    delete [] matA ; \n",
        "    delete [] matB ;\n",
        "    delete [] matC ; \n",
        "}"
      ],
      "execution_count": null,
      "outputs": [
        {
          "output_type": "stream",
          "text": [
            "Overwriting sam1_vec.cpp\n"
          ],
          "name": "stdout"
        }
      ]
    },
    {
      "cell_type": "code",
      "metadata": {
        "colab": {
          "base_uri": "https://localhost:8080/"
        },
        "id": "17UrYfuQCO3U",
        "outputId": "79420c38-6671-49e4-b974-55c9cae7654c"
      },
      "source": [
        "%%script bash\n",
        "\n",
        "g++ sam1_vec.cpp -o test_vec -lpthread\n",
        "./test_vec"
      ],
      "execution_count": null,
      "outputs": [
        {
          "output_type": "stream",
          "text": [
            "core no : 0\n",
            "core no : 1\n",
            "time to multiply : 0.391942\n",
            "\n",
            "10000 10000 10000\n"
          ],
          "name": "stdout"
        }
      ]
    },
    {
      "cell_type": "markdown",
      "metadata": {
        "id": "i5sr230GZGyH"
      },
      "source": [
        "Using 4 threads to run the operation "
      ]
    },
    {
      "cell_type": "code",
      "metadata": {
        "colab": {
          "base_uri": "https://localhost:8080/"
        },
        "id": "G0o_cbg4d8O-",
        "outputId": "1801c57b-ff88-4717-8cf3-1e6c148bebf6"
      },
      "source": [
        "%%script bash\n",
        "\n",
        "g++ sam1.cpp -o test -lpthread\n",
        "./test"
      ],
      "execution_count": null,
      "outputs": [
        {
          "output_type": "stream",
          "text": [
            "Process is interrupted.\n"
          ],
          "name": "stdout"
        }
      ]
    },
    {
      "cell_type": "code",
      "metadata": {
        "id": "4i20P_bbYC5z",
        "colab": {
          "base_uri": "https://localhost:8080/"
        },
        "outputId": "25ee8d0e-2958-40e6-c8f2-c96643a10b87"
      },
      "source": [
        "%%script bash\n",
        "\n",
        "g++ sam1.cpp -o test1 -lpthread\n",
        "./test1"
      ],
      "execution_count": null,
      "outputs": [
        {
          "output_type": "stream",
          "text": [
            "time to multiply : 13755.5\n",
            "\n",
            "10000 10000\n"
          ],
          "name": "stdout"
        }
      ]
    }
  ]
}